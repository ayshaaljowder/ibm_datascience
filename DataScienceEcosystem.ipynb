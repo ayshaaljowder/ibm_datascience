{
 "cells": [
  {
   "cell_type": "markdown",
   "id": "28676fb0-242b-4be0-826c-b5905c259241",
   "metadata": {},
   "source": [
    "<center>\n",
    "    <img src=\"https://cf-courses-data.s3.us.cloud-object-storage.appdomain.cloud/IBMDeveloperSkillsNetwork-DS0105EN-SkillsNetwork/labs/Module2/images/SN_web_lightmode.png\" width=\"300\" alt=\"cognitiveclass.ai logo\">\n",
    "</center>\n"
   ]
  },
  {
   "cell_type": "markdown",
   "id": "4137ef0b-d4d2-427c-b5e4-730bd8c8111f",
   "metadata": {},
   "source": [
    "#### Add your code below following the instructions given in the course\n"
   ]
  },
  {
   "cell_type": "markdown",
   "id": "370aa1b6-a7c9-4955-a0bc-a2e93a8dd20a",
   "metadata": {
    "tags": []
   },
   "source": [
    "# Data Science Tools and Ecosystem"
   ]
  },
  {
   "cell_type": "markdown",
   "id": "168fa4c2-a0e2-4ec2-8efa-9787b857e9b4",
   "metadata": {},
   "source": [
    "In this notebook, Data Science Tools and Ecosystem are summarized."
   ]
  },
  {
   "cell_type": "markdown",
   "id": "6ff4f5f7-4762-4be9-bb7f-224488280845",
   "metadata": {},
   "source": [
    "**Objectives**\n",
    "- List popular Data Science languages \n",
    "- List popular Data Science libraries \n",
    "- List popular Data Science tools\n",
    "- Showcase examples of arithmetic expressions in Python"
   ]
  },
  {
   "cell_type": "markdown",
   "id": "3b2dcfd3-c307-45c6-836e-81ef071a8c8b",
   "metadata": {},
   "source": [
    "Some of the popular languages that Data Scientists use are:\n",
    "1. Python\n",
    "2. R\n",
    "3. SQL\n",
    "4. Scala\n",
    "5. Java"
   ]
  },
  {
   "cell_type": "markdown",
   "id": "d941a8cc-fe6a-49a0-ba94-038acd019226",
   "metadata": {},
   "source": [
    "Some of the commonly used libraries used by Data Scientists include:\n",
    "1. Pandas\n",
    "2. Matplotlib\n",
    "3. Scikit-learn\n",
    "4. Keras\n",
    "5. Tensorflow"
   ]
  },
  {
   "cell_type": "markdown",
   "id": "ebc485e0-b181-471c-a33b-b353d51c2903",
   "metadata": {
    "tags": []
   },
   "source": [
    "| Data Science Tools |\n",
    "|----| \n",
    "| Jupyter Notebooks |\n",
    "| Jupyer Lab |\n",
    "| RStudio |\n",
    "| Spyder |"
   ]
  },
  {
   "cell_type": "markdown",
   "id": "50b58231-9689-48b1-80eb-5dec8386778c",
   "metadata": {},
   "source": [
    "### Below are a few examples of evaluating arithmetic expressions in Python."
   ]
  },
  {
   "cell_type": "code",
   "execution_count": 1,
   "id": "7e5398d3-4a0c-4b39-8d2c-b82de0de038d",
   "metadata": {
    "tags": []
   },
   "outputs": [
    {
     "data": {
      "text/plain": [
       "17"
      ]
     },
     "execution_count": 1,
     "metadata": {},
     "output_type": "execute_result"
    }
   ],
   "source": [
    "# This a simple arithmetic expression to mutiply then add integers\n",
    "(3*4)+5"
   ]
  },
  {
   "cell_type": "code",
   "execution_count": 3,
   "id": "94c9eb1e-3535-451c-9f69-4a897f41e19b",
   "metadata": {
    "tags": []
   },
   "outputs": [
    {
     "data": {
      "text/plain": [
       "3.3333333333333335"
      ]
     },
     "execution_count": 3,
     "metadata": {},
     "output_type": "execute_result"
    }
   ],
   "source": [
    "# This will convert 200 minutes to hours by diving by 60\n",
    "200/60"
   ]
  },
  {
   "cell_type": "markdown",
   "id": "3143c55f-7af1-40c7-b109-39d6ec92f0ef",
   "metadata": {},
   "source": [
    "## Author\n",
    "Aysha Aljawder"
   ]
  }
 ],
 "metadata": {
  "kernelspec": {
   "display_name": "Python",
   "language": "python",
   "name": "conda-env-python-py"
  },
  "language_info": {
   "codemirror_mode": {
    "name": "ipython",
    "version": 3
   },
   "file_extension": ".py",
   "mimetype": "text/x-python",
   "name": "python",
   "nbconvert_exporter": "python",
   "pygments_lexer": "ipython3",
   "version": "3.7.12"
  }
 },
 "nbformat": 4,
 "nbformat_minor": 5
}
